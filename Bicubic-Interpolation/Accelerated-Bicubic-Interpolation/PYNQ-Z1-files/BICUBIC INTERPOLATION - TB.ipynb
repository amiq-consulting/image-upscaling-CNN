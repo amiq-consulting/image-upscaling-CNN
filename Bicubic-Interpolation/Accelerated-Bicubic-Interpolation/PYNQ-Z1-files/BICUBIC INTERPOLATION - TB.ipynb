{
 "cells": [
  {
   "cell_type": "code",
   "execution_count": 10,
   "metadata": {},
   "outputs": [],
   "source": [
    "from pynq import Overlay\n",
    "import pynq.lib.dma\n",
    "# Load the overlay\n",
    "overlay = Overlay('/home/xilinx/pynq/overlays/bicubic/bicubic.bit')\n",
    "#overlay?\n",
    "# Load the DMA\n",
    "dma = overlay.dma  \n",
    "# Load bicubic IP\n",
    "bicubic_ip = overlay.bicubic\n",
    "#bicubic_ip?"
   ]
  },
  {
   "cell_type": "code",
   "execution_count": 11,
   "metadata": {},
   "outputs": [],
   "source": [
    "import cv2\n",
    "import numpy as np\n",
    "in_img = cv2.imread('input_image.jpeg')\n",
    "height,width, nr_of_channels = in_img.shape"
   ]
  },
  {
   "cell_type": "code",
   "execution_count": 12,
   "metadata": {},
   "outputs": [],
   "source": [
    "def padding(img,H,W,C):\n",
    "    zimg = np.zeros((H+4,W+4,C))\n",
    "    zimg[2:H+2,2:W+2,:C] = img\n",
    "    #Pad the first/last two col and row\n",
    "    zimg[2:H+2,0:2,:C]=img[:,0:1,:C]          # the leftmost two col\n",
    "    zimg[H+2:H+4,2:W+2,:]=img[H-1:H,:,:]      # the top two rows\n",
    "    zimg[2:H+2,W+2:W+4,:]=img[:,W-1:W,:]      # the rightmost two col     \n",
    "    zimg[0:2,2:W+2,:C]=img[0:1,:,:C]          # the bottom two rows          \n",
    "    #Pad the missing eight points                        \n",
    "    zimg[0:2,0:2,:C]=img[0,0,:C]              # down left corner (4 points)               \n",
    "    zimg[H+2:H+4,0:2,:C]=img[H-1,0,:C]        # up left corner   (4 points)                    \n",
    "    zimg[H+2:H+4,W+2:W+4,:C]=img[H-1,W-1,:C]  # up right corner  (4 points)                \n",
    "    zimg[0:2,W+2:W+4,:C]=img[0,W-1,:C]        # down right corner(4 points)  \n",
    "    return zimg"
   ]
  },
  {
   "cell_type": "code",
   "execution_count": 13,
   "metadata": {},
   "outputs": [],
   "source": [
    "do_padding = 0"
   ]
  },
  {
   "cell_type": "code",
   "execution_count": 14,
   "metadata": {},
   "outputs": [],
   "source": [
    "if do_padding:\n",
    "    in_img = padding(in_img,height,width,nr_of_channels)\n",
    "    cv2.imwrite('padding_image.jpeg', in_img)\n",
    "    height,width, nr_of_channels = in_img.shape"
   ]
  },
  {
   "cell_type": "code",
   "execution_count": 15,
   "metadata": {},
   "outputs": [],
   "source": [
    "# Assign input constant values\n",
    "interpolation_parameter = 5\n",
    "scale_factor = 2\n",
    "bicubic_ip.write(0x10,height)                            \n",
    "bicubic_ip.write(0x18,width)                            \n",
    "bicubic_ip.write(0x20,interpolation_parameter)                       \n",
    "bicubic_ip.write(0x28,scale_factor) "
   ]
  },
  {
   "cell_type": "code",
   "execution_count": 16,
   "metadata": {},
   "outputs": [],
   "source": [
    "from   pynq import allocate\n",
    "import time\n",
    "size_stream_in  = height * width\n",
    "out_height = scale_factor * height\n",
    "out_width = scale_factor * width\n",
    "if do_padding:\n",
    "    size_stream_out = scale_factor * (height - 4) * scale_factor * (width - 4)\n",
    "else:\n",
    "    size_stream_out = out_height * out_width\n",
    "in_buffer  = allocate(shape=(size_stream_in,1),  dtype=np.uint32)\n",
    "out_buffer = allocate(shape=(size_stream_out,1), dtype=np.uint32)\n",
    "k= 0\n",
    "for i in range(height):\n",
    "    for j in range(width):\n",
    "            in_buffer[k,0]=in_img[i,j,0]+256*in_img[i,j,1]+65536*in_img[i,j,2]\n",
    "            k = k + 1"
   ]
  },
  {
   "cell_type": "code",
   "execution_count": 17,
   "metadata": {},
   "outputs": [
    {
     "name": "stdout",
     "output_type": "stream",
     "text": [
      "Hardware bicubic interpolation execution time:  0.3131232261657715\n",
      "Hardware acceleration factor (FPGA accelerator vs C/C++ CPU version):  23.16659830324959\n",
      "Hardware acceleration factor (FPGA accelerator vs Python CPU version):  126.21229183132395\n"
     ]
    }
   ],
   "source": [
    "CPU_C_exec_time = 7.254\n",
    "CPU_Python_exec_time = 39.52\n",
    "# Trigger the DMA transfer and wait for the result\n",
    "start_time = time.time()\n",
    "dma.sendchannel.transfer(in_buffer)  #python - dma - accelerator PYNQ\n",
    "dma.recvchannel.transfer(out_buffer) #accelerator PYNQ - dma - python\n",
    "dma.sendchannel.wait()               #se asigura ca nu se trece mai departe pana nu se face transferul respectiv\n",
    "dma.recvchannel.wait()\n",
    "stop_time = time.time()\n",
    "hw_exec_time = stop_time - start_time\n",
    "print('Hardware bicubic interpolation execution time: ',hw_exec_time)\n",
    "print('Hardware acceleration factor (FPGA accelerator vs C/C++ CPU version): ',CPU_C_exec_time / hw_exec_time)\n",
    "print('Hardware acceleration factor (FPGA accelerator vs Python CPU version): ',CPU_Python_exec_time / hw_exec_time)"
   ]
  },
  {
   "cell_type": "code",
   "execution_count": 18,
   "metadata": {},
   "outputs": [
    {
     "data": {
      "text/plain": [
       "True"
      ]
     },
     "execution_count": 18,
     "metadata": {},
     "output_type": "execute_result"
    }
   ],
   "source": [
    "out_img = np.zeros((out_height, out_width, nr_of_channels))\n",
    "k = 0\n",
    "for i in range(out_height):\n",
    "    for j in range(out_width):\n",
    "            binn = np.binary_repr(out_buffer[k,0], width = 32)\n",
    "            out_img[i,j,0] = int(str(binn[24:32]), 2)\n",
    "            out_img[i,j,1] = int(str(binn[16:24]), 2)\n",
    "            out_img[i,j,2] = int(str(binn[8:16]), 2)\n",
    "            k = k+1\n",
    "cv2.imwrite('output_image.jpeg', out_img)"
   ]
  }
 ],
 "metadata": {
  "kernelspec": {
   "display_name": "Python 3",
   "language": "python",
   "name": "python3"
  },
  "language_info": {
   "codemirror_mode": {
    "name": "ipython",
    "version": 3
   },
   "file_extension": ".py",
   "mimetype": "text/x-python",
   "name": "python",
   "nbconvert_exporter": "python",
   "pygments_lexer": "ipython3",
   "version": "3.6.5"
  }
 },
 "nbformat": 4,
 "nbformat_minor": 2
}
