{
 "cells": [
  {
   "cell_type": "code",
   "execution_count": null,
   "metadata": {},
   "outputs": [],
   "source": [
    "# ---------------------------------------------------------------------------------------------\n",
    "# I took over the Python CPU implementation for the bicubic interpolation algorithm\n",
    "# from sanghavipreet - https://auth.geeksforgeeks.org/user/sanghavipreet2001/articles\n",
    "# and I have made some changes (generalized the padding function for a given padding_number,\n",
    "# renamed variables, removed/added comments).\n",
    "# This file is under the same license as the original content from geeksforgeeks article.\n",
    "# (see https://www.geeksforgeeks.org/copyright-information/?ref=footer) \n",
    "# (https://www.geeksforgeeks.org/xyz/)\n",
    "# ---------------------------------------------------------------------------------------------"
   ]
  },
  {
   "cell_type": "code",
   "execution_count": null,
   "metadata": {},
   "outputs": [],
   "source": [
    "import cv2\n",
    "import numpy as np\n",
    "import math\n",
    "import sys\n",
    "import time\n",
    "input_image = cv2.imread('input_image.jpeg')\n",
    "scale_factor = 2\n",
    "# Interpolation kernel coefficient\n",
    "a = -1/2"
   ]
  },
  {
   "cell_type": "code",
   "execution_count": null,
   "metadata": {},
   "outputs": [],
   "source": [
    "# Interpolation kernel\n",
    "def u(x,a):\n",
    "    if (abs(x) >=0) & (abs(x) <=1):\n",
    "        return (a+2)*(abs(x)**3)-(a+3)*(abs(x)**2)+1\n",
    "    elif (abs(x) > 1) & (abs(x) <= 2):\n",
    "        return a*(abs(x)**3)-(5*a)*(abs(x)**2)+(8*a)*abs(x)-4*a\n",
    "    return 0"
   ]
  },
  {
   "cell_type": "code",
   "execution_count": null,
   "metadata": {},
   "outputs": [],
   "source": [
    "# Paddig\n",
    "def padding(img,H,W,C, padding_number):\n",
    "    padded_img = np.zeros((H+padding_number*2,W+padding_number*2,C))\n",
    "    padded_img[padding_number:H+padding_number,padding_number:W+padding_number,:C] = img\n",
    "    padded_img[padding_number:H+padding_number,0:padding_number,:C]=img[:,0:1,:C]                         # the leftmost two col\n",
    "    padded_img[H+padding_number:H+2*padding_number,padding_number:W+padding_number,:]=img[H-1:H,:,:]      # the top two rows\n",
    "    padded_img[padding_number:H+padding_number,W+padding_number:W+2*padding_number,:]=img[:,W-1:W,:]      # the rightmost two col     \n",
    "    padded_img[0:padding_number,padding_number:W+padding_number,:C]=img[0:1,:,:C]                         # the bottom two rows                              \n",
    "    padded_img[0:padding_number,0:padding_number,:C]=img[0,0,:C]                                          # down left corner (4 points)               \n",
    "    padded_img[H+padding_number:H+2*padding_number,0:padding_number,:C]=img[H-1,0,:C]                     # up left corner   (4 points)                    \n",
    "    padded_img[H+padding_number:H+2*padding_number,W+padding_number:W+2*padding_number,:C]=img[H-1,W-1,:C]# up right corner  (4 points)                \n",
    "    padded_img[0:padding_number,W+padding_number:W+2*padding_number,:C]=img[0,W-1,:C]                     # down right corner(4 points)  \n",
    "    return padded_img"
   ]
  },
  {
   "cell_type": "code",
   "execution_count": null,
   "metadata": {},
   "outputs": [],
   "source": [
    "# Bicubic algorithm\n",
    "def bicubic(img, ratio, a):\n",
    "    #tuple with array dimensions\n",
    "    H,W,C = img.shape\n",
    "    padding_number = 2\n",
    "    img = padding(img,H,W,C, padding_number)\n",
    "    #Create new image\n",
    "    out_H = int(H*ratio) #rounds down to the nearest integer\n",
    "    out_W = int(W*ratio)\n",
    "    output_image = np.zeros((out_H, out_W, C))\n",
    "    h = 1/ratio\n",
    "    for c in range(C):\n",
    "        for j in range(out_H):\n",
    "            for i in range(out_W):\n",
    "                x = i * h + 2\n",
    "                y = j * h + 2\n",
    "                x1 = 1 + x - math.floor(x)\n",
    "                x2 = x - math.floor(x)\n",
    "                x3 = math.floor(x) + 1 - x\n",
    "                x4 = math.floor(x) + 2 - x\n",
    "                y1 = 1 + y - math.floor(y)\n",
    "                y2 = y - math.floor(y)\n",
    "                y3 = math.floor(y) + 1 - y\n",
    "                y4 = math.floor(y) + 2 - y\n",
    "                mat_x = np.array([[u(x1,a),u(x2,a),u(x3,a),u(x4,a)]])\n",
    "                # matrix with the nearest 16 points of the new pixel\n",
    "                mat_pix = np.array([[img[int(y-y1),int(x-x1),c],img[int(y-y2),int(x-x1),c],img[int(y+y3),int(x-x1),c],img[int(y+y4),int(x-x1),c]],\n",
    "                                   [img[int(y-y1),int(x-x2),c],img[int(y-y2),int(x-x2),c],img[int(y+y3),int(x-x2),c],img[int(y+y4),int(x-x2),c]],\n",
    "                                   [img[int(y-y1),int(x+x3),c],img[int(y-y2),int(x+x3),c],img[int(y+y3),int(x+x3),c],img[int(y+y4),int(x+x3),c]],\n",
    "                                   [img[int(y-y1),int(x+x4),c],img[int(y-y2),int(x+x4),c],img[int(y+y3),int(x+x4),c],img[int(y+y4),int(x+x4),c]]])\n",
    "                mat_y = np.array([[u(y1,a)],[u(y2,a)],[u(y3,a)],[u(y4,a)]])\n",
    "                output_image[j, i, c] = np.dot(np.dot(mat_x, mat_pix),mat_y)\n",
    "    sys.stderr.write('\\n')\n",
    "    sys.stderr.flush()\n",
    "    return output_image"
   ]
  },
  {
   "cell_type": "code",
   "execution_count": null,
   "metadata": {},
   "outputs": [],
   "source": [
    "start_time = time.time()\n",
    "output_image = bicubic(input_image, scale_factor, a)\n",
    "stop_time = time.time()\n",
    "sw_exec_time = stop_time - start_time\n",
    "print('Bicubic CPU Python execution time: ',sw_exec_time)\n",
    "#cv2.imshow('output_image',dst)\n",
    "#cv2.waitKey(0)\n",
    "#print('Completed!')\n",
    "cv2.imwrite('output_image.jpeg', output_image)"
   ]
  }
 ],
 "metadata": {
  "kernelspec": {
   "display_name": "Python 3",
   "language": "python",
   "name": "python3"
  },
  "language_info": {
   "codemirror_mode": {
    "name": "ipython",
    "version": 3
   },
   "file_extension": ".py",
   "mimetype": "text/x-python",
   "name": "python",
   "nbconvert_exporter": "python",
   "pygments_lexer": "ipython3",
   "version": "3.7.4"
  }
 },
 "nbformat": 4,
 "nbformat_minor": 2
}
