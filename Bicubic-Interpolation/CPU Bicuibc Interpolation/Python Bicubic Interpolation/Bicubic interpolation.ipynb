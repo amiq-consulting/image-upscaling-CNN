{
 "cells": [
  {
   "cell_type": "code",
   "execution_count": 1,
   "metadata": {},
   "outputs": [],
   "source": [
    "# OpenCV-Python\n",
    "import cv2\n",
    "import numpy as np\n",
    "import math\n",
    "import sys, time\n",
    "# Read image\n",
    "img = cv2.imread('input_image.jpeg')\n",
    "# Scale factor\n",
    "ratio = 2\n",
    "# Coefficient\n",
    "a = -1/2"
   ]
  },
  {
   "cell_type": "code",
   "execution_count": 2,
   "metadata": {},
   "outputs": [],
   "source": [
    "# Interpolation kernel\n",
    "# a = -0.5(Keys)\n",
    "def u(s,a):\n",
    "    if (abs(s) >=0) & (abs(s) <=1):\n",
    "        return (a+2)*(abs(s)**3)-(a+3)*(abs(s)**2)+1\n",
    "    elif (abs(s) > 1) & (abs(s) <= 2):\n",
    "        return a*(abs(s)**3)-(5*a)*(abs(s)**2)+(8*a)*abs(s)-4*a\n",
    "    return 0"
   ]
  },
  {
   "cell_type": "code",
   "execution_count": 3,
   "metadata": {},
   "outputs": [],
   "source": [
    "# Paddig ( p = 2)\n",
    "def padding(img,H,W,C):\n",
    "    zimg = np.zeros((H+4,W+4,C))\n",
    "    zimg[2:H+2,2:W+2,:C] = img\n",
    "    #Pad the first/last two col and row\n",
    "    zimg[2:H+2,0:2,:C]=img[:,0:1,:C]          # the leftmost two col\n",
    "    zimg[H+2:H+4,2:W+2,:]=img[H-1:H,:,:]      # the top two rows\n",
    "    zimg[2:H+2,W+2:W+4,:]=img[:,W-1:W,:]      # the rightmost two col     \n",
    "    zimg[0:2,2:W+2,:C]=img[0:1,:,:C]          # the bottom two rows          \n",
    "    #Pad the missing eight points                        \n",
    "    zimg[0:2,0:2,:C]=img[0,0,:C]              # down left corner (4 points)               \n",
    "    zimg[H+2:H+4,0:2,:C]=img[H-1,0,:C]        # up left corner   (4 points)                    \n",
    "    zimg[H+2:H+4,W+2:W+4,:C]=img[H-1,W-1,:C]  # up right corner  (4 points)                \n",
    "    zimg[0:2,W+2:W+4,:C]=img[0,W-1,:C]        # down right corner(4 points)  \n",
    "    return zimg"
   ]
  },
  {
   "cell_type": "code",
   "execution_count": 4,
   "metadata": {},
   "outputs": [],
   "source": [
    "# https://github.com/yunabe/codelab/blob/master/misc/terminal_progressbar/progress.py\n",
    "# def get_progressbar_str(progress):\n",
    "#    END = 170\n",
    "#    MAX_LEN = 30\n",
    "#    BAR_LEN = int(MAX_LEN * progress)\n",
    "#    return ('Progress:[' + '=' * BAR_LEN +\n",
    "#            ('>' if BAR_LEN < MAX_LEN else '') +\n",
    "#            ' ' * (MAX_LEN - BAR_LEN) +\n",
    "#            '] %.1f%%' % (progress * 100.))"
   ]
  },
  {
   "cell_type": "code",
   "execution_count": 5,
   "metadata": {},
   "outputs": [],
   "source": [
    "# Bicubic operation\n",
    "def bicubic(img, ratio, a):\n",
    "    #tuple with array dimensions\n",
    "    H,W,C = img.shape\n",
    "\n",
    "    img = padding(img,H,W,C)\n",
    "    #Create new image\n",
    "    dH = int(H*ratio) #rounds down to the nearest integer\n",
    "    dW = int(W*ratio)\n",
    "    dst = np.zeros((dH, dW, 3))\n",
    "    h = 1/ratio\n",
    "    #print('Start bicubic interpolation')\n",
    "    #inc = 0 #for the progressbar\n",
    "    for c in range(C):\n",
    "        for j in range(dH):\n",
    "            for i in range(dW):\n",
    "                x, y = i * h + 2 , j * h + 2\n",
    "                x1 = 1 + x - math.floor(x)\n",
    "                x2 = x - math.floor(x)\n",
    "                x3 = math.floor(x) + 1 - x\n",
    "                x4 = math.floor(x) + 2 - x\n",
    "                y1 = 1 + y - math.floor(y)\n",
    "                y2 = y - math.floor(y)\n",
    "                y3 = math.floor(y) + 1 - y\n",
    "                y4 = math.floor(y) + 2 - y\n",
    "                mat_l = np.array([[u(x1,a),u(x2,a),u(x3,a),u(x4,a)]])\n",
    "                # matrix with the nearest 16 points of the new pixel\n",
    "                mat_m = np.array([[img[int(y-y1),int(x-x1),c],img[int(y-y2),int(x-x1),c],img[int(y+y3),int(x-x1),c],img[int(y+y4),int(x-x1),c]],\n",
    "                                   [img[int(y-y1),int(x-x2),c],img[int(y-y2),int(x-x2),c],img[int(y+y3),int(x-x2),c],img[int(y+y4),int(x-x2),c]],\n",
    "                                   [img[int(y-y1),int(x+x3),c],img[int(y-y2),int(x+x3),c],img[int(y+y3),int(x+x3),c],img[int(y+y4),int(x+x3),c]],\n",
    "                                   [img[int(y-y1),int(x+x4),c],img[int(y-y2),int(x+x4),c],img[int(y+y3),int(x+x4),c],img[int(y+y4),int(x+x4),c]]])\n",
    "                mat_r = np.array([[u(y1,a)],[u(y2,a)],[u(y3,a)],[u(y4,a)]])\n",
    "                dst[j, i, c] = np.dot(np.dot(mat_l, mat_m),mat_r)\n",
    "                # Print progress\n",
    "                # inc = inc + 1\n",
    "                # sys.stderr.write('\\r\\033[K' + get_progressbar_str(inc/(C*dH*dW)))\n",
    "                # sys.stderr.flush()\n",
    "    sys.stderr.write('\\n')\n",
    "    sys.stderr.flush()\n",
    "    return dst"
   ]
  },
  {
   "cell_type": "code",
   "execution_count": 6,
   "metadata": {},
   "outputs": [
    {
     "name": "stderr",
     "output_type": "stream",
     "text": [
      "\n"
     ]
    },
    {
     "name": "stdout",
     "output_type": "stream",
     "text": [
      "Bicubic CPU Python execution time:  29.069288730621338\n"
     ]
    },
    {
     "data": {
      "text/plain": [
       "True"
      ]
     },
     "execution_count": 6,
     "metadata": {},
     "output_type": "execute_result"
    }
   ],
   "source": [
    "import time\n",
    "start_time = time.time()\n",
    "dst = bicubic(img, ratio, a)\n",
    "stop_time = time.time()\n",
    "sw_exec_time = stop_time - start_time\n",
    "print('Bicubic CPU Python execution time: ',sw_exec_time)\n",
    "#cv2.imshow('output_image',dst)\n",
    "#cv2.waitKey(0)\n",
    "#print('Completed!')\n",
    "cv2.imwrite('output_image.jpeg', dst)"
   ]
  }
 ],
 "metadata": {
  "kernelspec": {
   "display_name": "Python 3",
   "language": "python",
   "name": "python3"
  },
  "language_info": {
   "codemirror_mode": {
    "name": "ipython",
    "version": 3
   },
   "file_extension": ".py",
   "mimetype": "text/x-python",
   "name": "python",
   "nbconvert_exporter": "python",
   "pygments_lexer": "ipython3",
   "version": "3.7.4"
  }
 },
 "nbformat": 4,
 "nbformat_minor": 2
}
