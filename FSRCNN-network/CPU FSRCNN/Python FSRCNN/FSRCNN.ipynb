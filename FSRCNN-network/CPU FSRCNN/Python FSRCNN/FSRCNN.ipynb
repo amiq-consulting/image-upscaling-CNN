{
 "cells": [
  {
   "cell_type": "code",
   "execution_count": null,
   "metadata": {},
   "outputs": [],
   "source": [
    "import numpy as np\n",
    "import scipy.io as sio \n",
    "import cv2\n",
    "import matplotlib.pyplot as plt"
   ]
  },
  {
   "cell_type": "code",
   "execution_count": null,
   "metadata": {},
   "outputs": [],
   "source": [
    "img = cv2.imread(\"input_image_64.jpeg\")\n",
    "for i in range(img.shape[0]):\n",
    "    for j in range(img.shape[1]):\n",
    "            img[i, j, 0], img[i, j, 2] =  img[i, j, 2], img[i, j, 0]       \n",
    "plt.imshow(img)"
   ]
  },
  {
   "cell_type": "code",
   "execution_count": null,
   "metadata": {},
   "outputs": [],
   "source": [
    "in_img = np.reshape(img[:, :, 0], (img.shape[0], img.shape[1], 1))\n",
    "plt.imshow(in_img[:, :, 0], cmap='gray', vmin=0, vmax=255)"
   ]
  },
  {
   "cell_type": "code",
   "execution_count": null,
   "metadata": {},
   "outputs": [],
   "source": [
    "def padding(input_slice, pad):\n",
    "    (H, W) = input_slice.shape\n",
    "    if pad > 0:\n",
    "        output_slice = np.zeros((H + 2 * pad, W + 2 * pad))\n",
    "        output_slice[pad : H + pad, pad : W + pad,] = input_slice\n",
    "        output_slice[pad : H + pad, 0 : pad]               = [[input_slice[i, 0] for j in range(pad)]  for i in range(H)]     # the leftmost two col\n",
    "        output_slice[H + pad : H + 2 * pad, pad : W + pad] = [[input_slice[H - 1, j] for j in range(W)]  for i in range(pad)] # the top two rows\n",
    "        output_slice[pad : H + pad, W + pad : W + 2 * pad] = [[input_slice[i, W - 1] for j in range(pad)]  for i in range(H)] # the rightmost two col     \n",
    "        output_slice[0 : pad, pad : W + pad]               = [[input_slice[0, j] for j in range(W)]  for i in range(pad)]     # the bottom two rows    \n",
    "        output_slice[0 : pad, 0 : pad]                             = input_slice[0, 0]          # down left corner (4 points)               \n",
    "        output_slice[H + pad : H + 2 * pad, 0 : pad]               = input_slice[H - 1, 0]      # up left corner   (4 points)                    \n",
    "        output_slice[H + pad : H + 2 * pad, W + pad : W + 2 * pad] = input_slice[H - 1, W - 1]  # up right corner  (4 points)                \n",
    "        output_slice[0 : pad, W + pad : W + 2 * pad]               = input_slice[0, W - 1]      # down right corner(4 points)  \n",
    "    \n",
    "        return output_slice\n",
    "    \n",
    "    return input_slice"
   ]
  },
  {
   "cell_type": "code",
   "execution_count": null,
   "metadata": {},
   "outputs": [],
   "source": [
    "padding_image_1 = np.pad(in_img[:, :, 0], ((5, 5), (5, 5)), mode = 'edge')\n",
    "plt.imshow(padding_image_1, cmap='gray', vmin=0, vmax=255)"
   ]
  },
  {
   "cell_type": "code",
   "execution_count": null,
   "metadata": {},
   "outputs": [],
   "source": [
    "padding_image_2 = padding(in_img[:, :, 0], 5)\n",
    "plt.imshow(padding_image_2, cmap='gray', vmin=0, vmax=255)"
   ]
  },
  {
   "cell_type": "code",
   "execution_count": null,
   "metadata": {},
   "outputs": [],
   "source": [
    "def conv_channel(prev_output_channel, flt):\n",
    "    stride = 1\n",
    "    f      = flt.shape[0]\n",
    "    pad    = int((f - 1) * .5)\n",
    "    (H, W) = prev_output_channel.shape\n",
    "    paded_channel  = padding(prev_output_channel, pad)\n",
    "    output_channel = np.zeros((H, W));\n",
    "    for i in range(H):\n",
    "        for j in range(W):\n",
    "            idx = i * stride;\n",
    "            idy = j * stride;\n",
    "            output_channel[i, j] += np.sum(np.multiply(paded_channel[idx : idx + f, idy : idy + f], flt))\n",
    "            \n",
    "    return output_channel"
   ]
  },
  {
   "cell_type": "code",
   "execution_count": null,
   "metadata": {},
   "outputs": [],
   "source": [
    "def deconv_channel(prev_output_channel, flt, stride):\n",
    "    f      = flt.shape[0];\n",
    "    pad    = 1\n",
    "    (H, W) = prev_output_channel.shape\n",
    "    paded_channel = padding(prev_output_channel, pad) \n",
    "    (H_p, W_p)   = paded_channel.shape;\n",
    "    (H_e, W_e)          = (H_p * stride, W_p * stride) \n",
    "    expanded_channel     = np.zeros((H_e + f, W_e + f));\n",
    "    for i in range(H_p):\n",
    "        for j in range(W_p):\n",
    "            idx = i * stride;\n",
    "            idy = j * stride;\n",
    "            expanded_channel[idx : idx + f, idy : idy + f] += np.multiply(paded_channel[i, j], flt)       \n",
    "    (H_o, W_o) = (H * stride, W * stride)\n",
    "    output_channel = expanded_channel[int((f + 1)/2) + stride * pad : H_o + int((f + 1)/2) + stride * pad, int((f + 1)/2) + stride * pad : W_o + int((f + 1)/2) + stride * pad]\n",
    "    \n",
    "    return output_channel"
   ]
  },
  {
   "cell_type": "code",
   "execution_count": null,
   "metadata": {},
   "outputs": [],
   "source": [
    "def FSNRCNN(mat_contents, img, up_scale):\n",
    "    weights_conv = mat_contents['weights_conv']\n",
    "    prelu_conv   = mat_contents['prelu_conv']\n",
    "    biases_conv  = mat_contents['biases_conv']\n",
    "    (hei, wid, dpt) = img.shape;\n",
    "    outhei = hei * up_scale;\n",
    "    outwid = wid * up_scale;\n",
    "    layer_num = weights_conv.shape[0];\n",
    "    in_img = np.true_divide(img, 255)\n",
    "    im_h = np.zeros((outhei, outwid, dpt))\n",
    "    for k in range(dpt):\n",
    "        conv_data = {}\n",
    "        img_channel = in_img[:, :, k]\n",
    "        conv_data[-1] = img_channel.reshape((img_channel.shape[0], img_channel.shape[1], 1))\n",
    "\n",
    "        ## conv\n",
    "        for idx in range(0, layer_num - 1):\n",
    "            weight = weights_conv[idx, 0]\n",
    "            bias   = biases_conv[idx, 0]\n",
    "            (channels, filtersize, filters) = weight.shape\n",
    "            patchsize = np.sqrt(filtersize).astype(np.uint8)\n",
    "            data_tmp  = np.zeros((hei, wid, filters))\n",
    "            data_pre  = conv_data[idx - 1]\n",
    "            for i in range(filters): \n",
    "                for j in range(channels):\n",
    "                    subfilter = weight[j, :, i].reshape((patchsize, patchsize))\n",
    "                    data_tmp[:, :, i] += conv_channel(data_pre[:, :, j], subfilter)\n",
    "                data_tmp[:, :, i] = np.maximum(data_tmp[:, :, i] + bias[i], 0) + prelu_conv[idx, 0] * np.minimum(data_tmp[:, :, i] + bias[i], 0)\n",
    "            conv_data[idx] = data_tmp\n",
    "\n",
    "        ## deconv\n",
    "        weight = weights_conv[layer_num - 1, 0]\n",
    "        bias   = biases_conv[layer_num - 1, 0]\n",
    "        (filters, filtersize, channels) = weight.shape\n",
    "        temp = np.zeros((channels, filtersize, filters))\n",
    "        for i in range(channels):\n",
    "            for j in range(filters):\n",
    "                temp[i, :, j] = weight[j, :, i]\n",
    "        weight = temp\n",
    "        (channels, filtersize, filters) = weight.shape\n",
    "        patchsize = np.sqrt(filtersize).astype(np.uint8)\n",
    "\n",
    "        conv3_data = np.zeros((outhei, outwid, 1))\n",
    "        conv2_data = conv_data[layer_num-2]\n",
    "        for i in range(filters): \n",
    "            for j in range(channels):\n",
    "                subfilter              = weight[j, :, i].reshape((patchsize, patchsize))\n",
    "                conv3_data[:, :, i]   += deconv_channel(conv2_data[:, :, j], subfilter, up_scale)\n",
    "            im_h[:, :, k] = conv3_data[:, :, i] + bias[i]\n",
    "         \n",
    "    im_h = np.multiply(im_h, 255)\n",
    "    for j in range(im_h.shape[0]):\n",
    "        for i in range(im_h.shape[1]):\n",
    "            for c in range(im_h.shape[2]):\n",
    "                if im_h[j, i, c] > 255:\n",
    "                    im_h[j, i, c] = 255\n",
    "                if im_h[j, i, c] < 0:\n",
    "                    im_h[j, i, c] = 0\n",
    "    im_h = im_h.astype(np.uint8) \n",
    "    return im_h"
   ]
  },
  {
   "cell_type": "code",
   "execution_count": null,
   "metadata": {},
   "outputs": [],
   "source": [
    "import time\n",
    "mat_contents = sio.loadmat('x2.mat')\n",
    "start_time = time.time()\n",
    "out_img = FSNRCNN(mat_contents, img, 2) \n",
    "stop_time = time.time()\n",
    "Python_CPU_exec_time = stop_time - start_time\n",
    "print('FSRCNN Python CPU execution time: ',Python_CPU_exec_time)"
   ]
  },
  {
   "cell_type": "code",
   "execution_count": null,
   "metadata": {},
   "outputs": [],
   "source": [
    "for i in range(out_img.shape[0]):\n",
    "    for j in range(out_img.shape[1]):\n",
    "            out_img[i, j, 0], out_img[i, j, 2] =  out_img[i, j, 2], out_img[i, j, 0]\n",
    "cv2.imwrite('output_image_128.jpeg', out_img)"
   ]
  },
  {
   "cell_type": "code",
   "execution_count": null,
   "metadata": {},
   "outputs": [],
   "source": []
  }
 ],
 "metadata": {
  "kernelspec": {
   "display_name": "Python 3",
   "language": "python",
   "name": "python3"
  },
  "language_info": {
   "codemirror_mode": {
    "name": "ipython",
    "version": 3
   },
   "file_extension": ".py",
   "mimetype": "text/x-python",
   "name": "python",
   "nbconvert_exporter": "python",
   "pygments_lexer": "ipython3",
   "version": "3.7.4"
  }
 },
 "nbformat": 4,
 "nbformat_minor": 4
}
